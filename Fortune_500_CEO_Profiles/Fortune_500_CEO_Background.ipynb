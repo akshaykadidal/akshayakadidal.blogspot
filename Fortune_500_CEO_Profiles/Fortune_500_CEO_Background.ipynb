{
 "cells": [
  {
   "cell_type": "code",
   "execution_count": 1,
   "metadata": {
    "colab": {
     "base_uri": "https://localhost:8080/"
    },
    "collapsed": true,
    "id": "99fdOcHA5ka3",
    "outputId": "5fc9a06d-ceb1-4265-b90a-0aee55e55234"
   },
   "outputs": [
    {
     "name": "stdout",
     "output_type": "stream",
     "text": [
      "Collecting duckduckgo-search\n",
      "  Downloading duckduckgo_search-6.3.5-py3-none-any.whl.metadata (25 kB)\n",
      "Requirement already satisfied: click>=8.1.7 in /usr/local/lib/python3.10/dist-packages (from duckduckgo-search) (8.1.7)\n",
      "Collecting primp>=0.6.5 (from duckduckgo-search)\n",
      "  Downloading primp-0.7.0-cp38-abi3-manylinux_2_17_x86_64.manylinux2014_x86_64.whl.metadata (10 kB)\n",
      "Downloading duckduckgo_search-6.3.5-py3-none-any.whl (27 kB)\n",
      "Downloading primp-0.7.0-cp38-abi3-manylinux_2_17_x86_64.manylinux2014_x86_64.whl (3.0 MB)\n",
      "\u001b[2K   \u001b[90m━━━━━━━━━━━━━━━━━━━━━━━━━━━━━━━━━━━━━━━━\u001b[0m \u001b[32m3.0/3.0 MB\u001b[0m \u001b[31m16.9 MB/s\u001b[0m eta \u001b[36m0:00:00\u001b[0m\n",
      "\u001b[?25hInstalling collected packages: primp, duckduckgo-search\n",
      "Successfully installed duckduckgo-search-6.3.5 primp-0.7.0\n",
      "Collecting langchain_community\n",
      "  Downloading langchain_community-0.3.7-py3-none-any.whl.metadata (2.9 kB)\n",
      "Requirement already satisfied: PyYAML>=5.3 in /usr/local/lib/python3.10/dist-packages (from langchain_community) (6.0.2)\n",
      "Collecting SQLAlchemy<2.0.36,>=1.4 (from langchain_community)\n",
      "  Downloading SQLAlchemy-2.0.35-cp310-cp310-manylinux_2_17_x86_64.manylinux2014_x86_64.whl.metadata (9.6 kB)\n",
      "Requirement already satisfied: aiohttp<4.0.0,>=3.8.3 in /usr/local/lib/python3.10/dist-packages (from langchain_community) (3.11.1)\n",
      "Collecting dataclasses-json<0.7,>=0.5.7 (from langchain_community)\n",
      "  Downloading dataclasses_json-0.6.7-py3-none-any.whl.metadata (25 kB)\n",
      "Collecting httpx-sse<0.5.0,>=0.4.0 (from langchain_community)\n",
      "  Downloading httpx_sse-0.4.0-py3-none-any.whl.metadata (9.0 kB)\n",
      "Requirement already satisfied: langchain<0.4.0,>=0.3.7 in /usr/local/lib/python3.10/dist-packages (from langchain_community) (0.3.7)\n",
      "Requirement already satisfied: langchain-core<0.4.0,>=0.3.17 in /usr/local/lib/python3.10/dist-packages (from langchain_community) (0.3.18)\n",
      "Requirement already satisfied: langsmith<0.2.0,>=0.1.125 in /usr/local/lib/python3.10/dist-packages (from langchain_community) (0.1.143)\n",
      "Requirement already satisfied: numpy<2,>=1 in /usr/local/lib/python3.10/dist-packages (from langchain_community) (1.26.4)\n",
      "Collecting pydantic-settings<3.0.0,>=2.4.0 (from langchain_community)\n",
      "  Downloading pydantic_settings-2.6.1-py3-none-any.whl.metadata (3.5 kB)\n",
      "Requirement already satisfied: requests<3,>=2 in /usr/local/lib/python3.10/dist-packages (from langchain_community) (2.32.3)\n",
      "Requirement already satisfied: tenacity!=8.4.0,<10,>=8.1.0 in /usr/local/lib/python3.10/dist-packages (from langchain_community) (9.0.0)\n",
      "Requirement already satisfied: aiohappyeyeballs>=2.3.0 in /usr/local/lib/python3.10/dist-packages (from aiohttp<4.0.0,>=3.8.3->langchain_community) (2.4.3)\n",
      "Requirement already satisfied: aiosignal>=1.1.2 in /usr/local/lib/python3.10/dist-packages (from aiohttp<4.0.0,>=3.8.3->langchain_community) (1.3.1)\n",
      "Requirement already satisfied: attrs>=17.3.0 in /usr/local/lib/python3.10/dist-packages (from aiohttp<4.0.0,>=3.8.3->langchain_community) (24.2.0)\n",
      "Requirement already satisfied: frozenlist>=1.1.1 in /usr/local/lib/python3.10/dist-packages (from aiohttp<4.0.0,>=3.8.3->langchain_community) (1.5.0)\n",
      "Requirement already satisfied: multidict<7.0,>=4.5 in /usr/local/lib/python3.10/dist-packages (from aiohttp<4.0.0,>=3.8.3->langchain_community) (6.1.0)\n",
      "Requirement already satisfied: propcache>=0.2.0 in /usr/local/lib/python3.10/dist-packages (from aiohttp<4.0.0,>=3.8.3->langchain_community) (0.2.0)\n",
      "Requirement already satisfied: yarl<2.0,>=1.17.0 in /usr/local/lib/python3.10/dist-packages (from aiohttp<4.0.0,>=3.8.3->langchain_community) (1.17.1)\n",
      "Requirement already satisfied: async-timeout<6.0,>=4.0 in /usr/local/lib/python3.10/dist-packages (from aiohttp<4.0.0,>=3.8.3->langchain_community) (4.0.3)\n",
      "Collecting marshmallow<4.0.0,>=3.18.0 (from dataclasses-json<0.7,>=0.5.7->langchain_community)\n",
      "  Downloading marshmallow-3.23.1-py3-none-any.whl.metadata (7.5 kB)\n",
      "Collecting typing-inspect<1,>=0.4.0 (from dataclasses-json<0.7,>=0.5.7->langchain_community)\n",
      "  Downloading typing_inspect-0.9.0-py3-none-any.whl.metadata (1.5 kB)\n",
      "Requirement already satisfied: langchain-text-splitters<0.4.0,>=0.3.0 in /usr/local/lib/python3.10/dist-packages (from langchain<0.4.0,>=0.3.7->langchain_community) (0.3.2)\n",
      "Requirement already satisfied: pydantic<3.0.0,>=2.7.4 in /usr/local/lib/python3.10/dist-packages (from langchain<0.4.0,>=0.3.7->langchain_community) (2.9.2)\n",
      "Requirement already satisfied: jsonpatch<2.0,>=1.33 in /usr/local/lib/python3.10/dist-packages (from langchain-core<0.4.0,>=0.3.17->langchain_community) (1.33)\n",
      "Requirement already satisfied: packaging<25,>=23.2 in /usr/local/lib/python3.10/dist-packages (from langchain-core<0.4.0,>=0.3.17->langchain_community) (24.2)\n",
      "Requirement already satisfied: typing-extensions>=4.7 in /usr/local/lib/python3.10/dist-packages (from langchain-core<0.4.0,>=0.3.17->langchain_community) (4.12.2)\n",
      "Requirement already satisfied: httpx<1,>=0.23.0 in /usr/local/lib/python3.10/dist-packages (from langsmith<0.2.0,>=0.1.125->langchain_community) (0.27.2)\n",
      "Requirement already satisfied: orjson<4.0.0,>=3.9.14 in /usr/local/lib/python3.10/dist-packages (from langsmith<0.2.0,>=0.1.125->langchain_community) (3.10.11)\n",
      "Requirement already satisfied: requests-toolbelt<2.0.0,>=1.0.0 in /usr/local/lib/python3.10/dist-packages (from langsmith<0.2.0,>=0.1.125->langchain_community) (1.0.0)\n",
      "Collecting python-dotenv>=0.21.0 (from pydantic-settings<3.0.0,>=2.4.0->langchain_community)\n",
      "  Downloading python_dotenv-1.0.1-py3-none-any.whl.metadata (23 kB)\n",
      "Requirement already satisfied: charset-normalizer<4,>=2 in /usr/local/lib/python3.10/dist-packages (from requests<3,>=2->langchain_community) (3.4.0)\n",
      "Requirement already satisfied: idna<4,>=2.5 in /usr/local/lib/python3.10/dist-packages (from requests<3,>=2->langchain_community) (3.10)\n",
      "Requirement already satisfied: urllib3<3,>=1.21.1 in /usr/local/lib/python3.10/dist-packages (from requests<3,>=2->langchain_community) (2.2.3)\n",
      "Requirement already satisfied: certifi>=2017.4.17 in /usr/local/lib/python3.10/dist-packages (from requests<3,>=2->langchain_community) (2024.8.30)\n",
      "Requirement already satisfied: greenlet!=0.4.17 in /usr/local/lib/python3.10/dist-packages (from SQLAlchemy<2.0.36,>=1.4->langchain_community) (3.1.1)\n",
      "Requirement already satisfied: anyio in /usr/local/lib/python3.10/dist-packages (from httpx<1,>=0.23.0->langsmith<0.2.0,>=0.1.125->langchain_community) (3.7.1)\n",
      "Requirement already satisfied: httpcore==1.* in /usr/local/lib/python3.10/dist-packages (from httpx<1,>=0.23.0->langsmith<0.2.0,>=0.1.125->langchain_community) (1.0.6)\n",
      "Requirement already satisfied: sniffio in /usr/local/lib/python3.10/dist-packages (from httpx<1,>=0.23.0->langsmith<0.2.0,>=0.1.125->langchain_community) (1.3.1)\n",
      "Requirement already satisfied: h11<0.15,>=0.13 in /usr/local/lib/python3.10/dist-packages (from httpcore==1.*->httpx<1,>=0.23.0->langsmith<0.2.0,>=0.1.125->langchain_community) (0.14.0)\n",
      "Requirement already satisfied: jsonpointer>=1.9 in /usr/local/lib/python3.10/dist-packages (from jsonpatch<2.0,>=1.33->langchain-core<0.4.0,>=0.3.17->langchain_community) (3.0.0)\n",
      "Requirement already satisfied: annotated-types>=0.6.0 in /usr/local/lib/python3.10/dist-packages (from pydantic<3.0.0,>=2.7.4->langchain<0.4.0,>=0.3.7->langchain_community) (0.7.0)\n",
      "Requirement already satisfied: pydantic-core==2.23.4 in /usr/local/lib/python3.10/dist-packages (from pydantic<3.0.0,>=2.7.4->langchain<0.4.0,>=0.3.7->langchain_community) (2.23.4)\n",
      "Collecting mypy-extensions>=0.3.0 (from typing-inspect<1,>=0.4.0->dataclasses-json<0.7,>=0.5.7->langchain_community)\n",
      "  Downloading mypy_extensions-1.0.0-py3-none-any.whl.metadata (1.1 kB)\n",
      "Requirement already satisfied: exceptiongroup in /usr/local/lib/python3.10/dist-packages (from anyio->httpx<1,>=0.23.0->langsmith<0.2.0,>=0.1.125->langchain_community) (1.2.2)\n",
      "Downloading langchain_community-0.3.7-py3-none-any.whl (2.4 MB)\n",
      "\u001b[2K   \u001b[90m━━━━━━━━━━━━━━━━━━━━━━━━━━━━━━━━━━━━━━━━\u001b[0m \u001b[32m2.4/2.4 MB\u001b[0m \u001b[31m25.5 MB/s\u001b[0m eta \u001b[36m0:00:00\u001b[0m\n",
      "\u001b[?25hDownloading dataclasses_json-0.6.7-py3-none-any.whl (28 kB)\n",
      "Downloading httpx_sse-0.4.0-py3-none-any.whl (7.8 kB)\n",
      "Downloading pydantic_settings-2.6.1-py3-none-any.whl (28 kB)\n",
      "Downloading SQLAlchemy-2.0.35-cp310-cp310-manylinux_2_17_x86_64.manylinux2014_x86_64.whl (3.1 MB)\n",
      "\u001b[2K   \u001b[90m━━━━━━━━━━━━━━━━━━━━━━━━━━━━━━━━━━━━━━━━\u001b[0m \u001b[32m3.1/3.1 MB\u001b[0m \u001b[31m20.0 MB/s\u001b[0m eta \u001b[36m0:00:00\u001b[0m\n",
      "\u001b[?25hDownloading marshmallow-3.23.1-py3-none-any.whl (49 kB)\n",
      "\u001b[2K   \u001b[90m━━━━━━━━━━━━━━━━━━━━━━━━━━━━━━━━━━━━━━━━\u001b[0m \u001b[32m49.5/49.5 kB\u001b[0m \u001b[31m2.7 MB/s\u001b[0m eta \u001b[36m0:00:00\u001b[0m\n",
      "\u001b[?25hDownloading python_dotenv-1.0.1-py3-none-any.whl (19 kB)\n",
      "Downloading typing_inspect-0.9.0-py3-none-any.whl (8.8 kB)\n",
      "Downloading mypy_extensions-1.0.0-py3-none-any.whl (4.7 kB)\n",
      "Installing collected packages: SQLAlchemy, python-dotenv, mypy-extensions, marshmallow, httpx-sse, typing-inspect, pydantic-settings, dataclasses-json, langchain_community\n",
      "  Attempting uninstall: SQLAlchemy\n",
      "    Found existing installation: SQLAlchemy 2.0.36\n",
      "    Uninstalling SQLAlchemy-2.0.36:\n",
      "      Successfully uninstalled SQLAlchemy-2.0.36\n",
      "Successfully installed SQLAlchemy-2.0.35 dataclasses-json-0.6.7 httpx-sse-0.4.0 langchain_community-0.3.7 marshmallow-3.23.1 mypy-extensions-1.0.0 pydantic-settings-2.6.1 python-dotenv-1.0.1 typing-inspect-0.9.0\n",
      "Requirement already satisfied: langchain in /usr/local/lib/python3.10/dist-packages (0.3.7)\n",
      "Requirement already satisfied: PyYAML>=5.3 in /usr/local/lib/python3.10/dist-packages (from langchain) (6.0.2)\n",
      "Requirement already satisfied: SQLAlchemy<3,>=1.4 in /usr/local/lib/python3.10/dist-packages (from langchain) (2.0.35)\n",
      "Requirement already satisfied: aiohttp<4.0.0,>=3.8.3 in /usr/local/lib/python3.10/dist-packages (from langchain) (3.11.1)\n",
      "Requirement already satisfied: async-timeout<5.0.0,>=4.0.0 in /usr/local/lib/python3.10/dist-packages (from langchain) (4.0.3)\n",
      "Requirement already satisfied: langchain-core<0.4.0,>=0.3.15 in /usr/local/lib/python3.10/dist-packages (from langchain) (0.3.18)\n",
      "Requirement already satisfied: langchain-text-splitters<0.4.0,>=0.3.0 in /usr/local/lib/python3.10/dist-packages (from langchain) (0.3.2)\n",
      "Requirement already satisfied: langsmith<0.2.0,>=0.1.17 in /usr/local/lib/python3.10/dist-packages (from langchain) (0.1.143)\n",
      "Requirement already satisfied: numpy<2,>=1 in /usr/local/lib/python3.10/dist-packages (from langchain) (1.26.4)\n",
      "Requirement already satisfied: pydantic<3.0.0,>=2.7.4 in /usr/local/lib/python3.10/dist-packages (from langchain) (2.9.2)\n",
      "Requirement already satisfied: requests<3,>=2 in /usr/local/lib/python3.10/dist-packages (from langchain) (2.32.3)\n",
      "Requirement already satisfied: tenacity!=8.4.0,<10,>=8.1.0 in /usr/local/lib/python3.10/dist-packages (from langchain) (9.0.0)\n",
      "Requirement already satisfied: aiohappyeyeballs>=2.3.0 in /usr/local/lib/python3.10/dist-packages (from aiohttp<4.0.0,>=3.8.3->langchain) (2.4.3)\n",
      "Requirement already satisfied: aiosignal>=1.1.2 in /usr/local/lib/python3.10/dist-packages (from aiohttp<4.0.0,>=3.8.3->langchain) (1.3.1)\n",
      "Requirement already satisfied: attrs>=17.3.0 in /usr/local/lib/python3.10/dist-packages (from aiohttp<4.0.0,>=3.8.3->langchain) (24.2.0)\n",
      "Requirement already satisfied: frozenlist>=1.1.1 in /usr/local/lib/python3.10/dist-packages (from aiohttp<4.0.0,>=3.8.3->langchain) (1.5.0)\n",
      "Requirement already satisfied: multidict<7.0,>=4.5 in /usr/local/lib/python3.10/dist-packages (from aiohttp<4.0.0,>=3.8.3->langchain) (6.1.0)\n",
      "Requirement already satisfied: propcache>=0.2.0 in /usr/local/lib/python3.10/dist-packages (from aiohttp<4.0.0,>=3.8.3->langchain) (0.2.0)\n",
      "Requirement already satisfied: yarl<2.0,>=1.17.0 in /usr/local/lib/python3.10/dist-packages (from aiohttp<4.0.0,>=3.8.3->langchain) (1.17.1)\n",
      "Requirement already satisfied: jsonpatch<2.0,>=1.33 in /usr/local/lib/python3.10/dist-packages (from langchain-core<0.4.0,>=0.3.15->langchain) (1.33)\n",
      "Requirement already satisfied: packaging<25,>=23.2 in /usr/local/lib/python3.10/dist-packages (from langchain-core<0.4.0,>=0.3.15->langchain) (24.2)\n",
      "Requirement already satisfied: typing-extensions>=4.7 in /usr/local/lib/python3.10/dist-packages (from langchain-core<0.4.0,>=0.3.15->langchain) (4.12.2)\n",
      "Requirement already satisfied: httpx<1,>=0.23.0 in /usr/local/lib/python3.10/dist-packages (from langsmith<0.2.0,>=0.1.17->langchain) (0.27.2)\n",
      "Requirement already satisfied: orjson<4.0.0,>=3.9.14 in /usr/local/lib/python3.10/dist-packages (from langsmith<0.2.0,>=0.1.17->langchain) (3.10.11)\n",
      "Requirement already satisfied: requests-toolbelt<2.0.0,>=1.0.0 in /usr/local/lib/python3.10/dist-packages (from langsmith<0.2.0,>=0.1.17->langchain) (1.0.0)\n",
      "Requirement already satisfied: annotated-types>=0.6.0 in /usr/local/lib/python3.10/dist-packages (from pydantic<3.0.0,>=2.7.4->langchain) (0.7.0)\n",
      "Requirement already satisfied: pydantic-core==2.23.4 in /usr/local/lib/python3.10/dist-packages (from pydantic<3.0.0,>=2.7.4->langchain) (2.23.4)\n",
      "Requirement already satisfied: charset-normalizer<4,>=2 in /usr/local/lib/python3.10/dist-packages (from requests<3,>=2->langchain) (3.4.0)\n",
      "Requirement already satisfied: idna<4,>=2.5 in /usr/local/lib/python3.10/dist-packages (from requests<3,>=2->langchain) (3.10)\n",
      "Requirement already satisfied: urllib3<3,>=1.21.1 in /usr/local/lib/python3.10/dist-packages (from requests<3,>=2->langchain) (2.2.3)\n",
      "Requirement already satisfied: certifi>=2017.4.17 in /usr/local/lib/python3.10/dist-packages (from requests<3,>=2->langchain) (2024.8.30)\n",
      "Requirement already satisfied: greenlet!=0.4.17 in /usr/local/lib/python3.10/dist-packages (from SQLAlchemy<3,>=1.4->langchain) (3.1.1)\n",
      "Requirement already satisfied: anyio in /usr/local/lib/python3.10/dist-packages (from httpx<1,>=0.23.0->langsmith<0.2.0,>=0.1.17->langchain) (3.7.1)\n",
      "Requirement already satisfied: httpcore==1.* in /usr/local/lib/python3.10/dist-packages (from httpx<1,>=0.23.0->langsmith<0.2.0,>=0.1.17->langchain) (1.0.6)\n",
      "Requirement already satisfied: sniffio in /usr/local/lib/python3.10/dist-packages (from httpx<1,>=0.23.0->langsmith<0.2.0,>=0.1.17->langchain) (1.3.1)\n",
      "Requirement already satisfied: h11<0.15,>=0.13 in /usr/local/lib/python3.10/dist-packages (from httpcore==1.*->httpx<1,>=0.23.0->langsmith<0.2.0,>=0.1.17->langchain) (0.14.0)\n",
      "Requirement already satisfied: jsonpointer>=1.9 in /usr/local/lib/python3.10/dist-packages (from jsonpatch<2.0,>=1.33->langchain-core<0.4.0,>=0.3.15->langchain) (3.0.0)\n",
      "Requirement already satisfied: exceptiongroup in /usr/local/lib/python3.10/dist-packages (from anyio->httpx<1,>=0.23.0->langsmith<0.2.0,>=0.1.17->langchain) (1.2.2)\n"
     ]
    }
   ],
   "source": [
    "!pip install -U duckduckgo-search\n",
    "!pip install langchain_community\n",
    "!pip install langchain"
   ]
  },
  {
   "cell_type": "code",
   "execution_count": 61,
   "metadata": {
    "id": "ox0rnf9G5jkD"
   },
   "outputs": [],
   "source": [
    "import requests\n",
    "import json\n",
    "import os\n",
    "import pandas as pd\n",
    "import http.client\n",
    "import re\n",
    "import time\n",
    "from langchain_core.tools import tool\n",
    "from langchain_community.tools import DuckDuckGoSearchRun\n",
    "from google.colab import drive"
   ]
  },
  {
   "cell_type": "code",
   "execution_count": null,
   "metadata": {
    "id": "AgIDA9xIhEXg"
   },
   "outputs": [],
   "source": [
    "drive.mount('/content/drive')"
   ]
  },
  {
   "cell_type": "markdown",
   "metadata": {
    "id": "UVoL3sYwX_iC"
   },
   "source": [
    "## Set LLM API credentials"
   ]
  },
  {
   "cell_type": "code",
   "execution_count": null,
   "metadata": {
    "id": "mxogTyiw8Ezc"
   },
   "outputs": [],
   "source": [
    "# Set Azure OpenAI credentials\n",
    "os.environ[\"OPENAI_API_TYPE\"] = \"azure\"\n",
    "os.environ[\"OPENAI_API_KEY\"] = \"\" #key here\n",
    "os.environ[\"OPENAI_API_BASE\"] = \"https://Phi-3-5-mini-instruct-iplvi.eastus2.models.ai.azure.com/chat/completions\"\n",
    "os.environ[\"OPENAI_API_VERSION\"] = \"2024-02-15-preview\"  # Update this to your Azure API version\n",
    "os.environ[\"X-API-KEY\"] = '' # your https://serper.dev key"
   ]
  },
  {
   "cell_type": "markdown",
   "metadata": {
    "id": "fVWM2R4yYI84"
   },
   "source": [
    "## Get data of fortune 500 companies"
   ]
  },
  {
   "cell_type": "code",
   "execution_count": 4,
   "metadata": {
    "id": "vlRqCsWJ8TW6"
   },
   "outputs": [],
   "source": [
    "url = \"https://fortune.com/ranking/global500/\"\n",
    "tables = pd.read_html(url)\n",
    "df_f5_2024 = tables[0]"
   ]
  },
  {
   "cell_type": "code",
   "execution_count": 5,
   "metadata": {
    "id": "-JOSG68o8TZ0"
   },
   "outputs": [],
   "source": [
    "url = \"https://fortune.com/ranking/global500/2004/\"\n",
    "tables = pd.read_html(url)\n",
    "df_f5_2004 = tables[0]"
   ]
  },
  {
   "cell_type": "markdown",
   "metadata": {
    "id": "PnNMaUGWYQ1S"
   },
   "source": [
    "## Write functions to help"
   ]
  },
  {
   "cell_type": "code",
   "execution_count": 6,
   "metadata": {
    "id": "DzgckdyrTdj6"
   },
   "outputs": [],
   "source": [
    "search = DuckDuckGoSearchRun()"
   ]
  },
  {
   "cell_type": "code",
   "execution_count": 20,
   "metadata": {
    "id": "sZEQ47GfPqCl"
   },
   "outputs": [],
   "source": [
    "def g_search(query):\n",
    "\n",
    "  conn = http.client.HTTPSConnection(\"google.serper.dev\")\n",
    "  X_API_KEY = os.environ[\"X-API-KEY\"]\n",
    "\n",
    "  payload = json.dumps({\n",
    "    \"q\": f\"\"\"{query}\"\"\"\n",
    "  })\n",
    "\n",
    "  headers = {\n",
    "    'X-API-KEY': X_API_KEY,\n",
    "    'Content-Type': 'application/json'\n",
    "  }\n",
    "\n",
    "  conn.request(\"POST\", \"/search\", payload, headers)\n",
    "  res = conn.getresponse()\n",
    "  data = res.read()\n",
    "  search_results = data.decode(\"utf-8\")\n",
    "  return search_results"
   ]
  },
  {
   "cell_type": "code",
   "execution_count": 21,
   "metadata": {
    "id": "Gz-JHkE6ThcV"
   },
   "outputs": [],
   "source": [
    "def search_ceo(company):\n",
    "  #ceo_search = search.run(f\"Who is the CEO of {company}?\")\n",
    "  ceo_search = g_search(f\"Who is the CEO of {company}?\")\n",
    "  return ceo_search"
   ]
  },
  {
   "cell_type": "code",
   "execution_count": 22,
   "metadata": {
    "id": "3LNKsIybSfbS"
   },
   "outputs": [],
   "source": [
    "def search_ceo_background(company, CEO):\n",
    "  #ceo_background = search.run(f\"{CEO}, CEO of {company} eduction background\")\n",
    "  ceo_background = g_search(f\"{CEO}, CEO of {company} eduction and background\")\n",
    "  return ceo_background"
   ]
  },
  {
   "cell_type": "code",
   "execution_count": 23,
   "metadata": {
    "id": "YLGKPtM6o8Xi"
   },
   "outputs": [],
   "source": [
    "def search_ceo_startdate(company, CEO):\n",
    "  #ceo_startdate = search.run(f\"when was {CEO} appointed as CEO of {company} \")\n",
    "  ceo_startdate = g_search(f\"when was {CEO} appointed as CEO of {company} \")\n",
    "  return ceo_startdate"
   ]
  },
  {
   "cell_type": "code",
   "execution_count": 24,
   "metadata": {
    "id": "jq9I95iDSJ6h"
   },
   "outputs": [],
   "source": [
    "#does Mirko Bibic, current CEO of Bell Canada Have a Legal background?\n",
    "def search_ceo_legal_background(company, CEO, profession='Legal'):\n",
    "  Search_query = f\"does {CEO}, CEO of {company} have a {profession} background\"\n",
    "  ceo_background = g_search(Search_query)\n",
    "  return ceo_background"
   ]
  },
  {
   "cell_type": "code",
   "execution_count": 25,
   "metadata": {
    "id": "m3ZJaEkQOJHg"
   },
   "outputs": [],
   "source": [
    "def ask_phi(input_query):\n",
    "\n",
    "    # Define the API endpoint and headers\n",
    "    api_endpoint = os.getenv(\"OPENAI_API_BASE\")\n",
    "    api_key = os.getenv(\"OPENAI_API_KEY\")  # Ensure your Azure API key is set in the environment\n",
    "\n",
    "    headers = {\n",
    "        \"Content-Type\": \"application/json\",\n",
    "        \"Authorization\": f\"Bearer {api_key}\",\n",
    "        \"api-version\": \"2023-05-15\"\n",
    "    }\n",
    "\n",
    "    # Define the request payload\n",
    "    payload = {\n",
    "        \"messages\": [\n",
    "            {\"role\": \"system\", \"content\": \"You are a helpful assistant.\"},\n",
    "            {\"role\": \"user\", \"content\": f\"\"\"{input_query}\"\"\"}\n",
    "        ],\n",
    "        \"max_tokens\": 100,\n",
    "        \"temperature\": 0.3,\n",
    "        \"top_p\": 0.95\n",
    "    }\n",
    "\n",
    "    # Make the POST request\n",
    "    response = requests.post(api_endpoint, json=payload, headers=headers)\n",
    "\n",
    "    # Handle the response\n",
    "    if response.status_code == 200:\n",
    "        result = response.json()\n",
    "        return result\n",
    "    else:\n",
    "        return (f\"Error: {response.status_code}, {response.text}\")"
   ]
  },
  {
   "cell_type": "code",
   "execution_count": 53,
   "metadata": {
    "id": "_T_PPR_Ffn0k"
   },
   "outputs": [],
   "source": [
    "def extract_json(response, feild):\n",
    "    content = response['choices'][0]['message']['content']\n",
    "    content = str(content)\n",
    "    # Extract JSON from the response content\n",
    "    try:\n",
    "      json_match = re.search(r'{.*?}', content, re.DOTALL)\n",
    "      if json_match:\n",
    "        json_str = json_match.group(0)\n",
    "        # Parse the JSON string\n",
    "        data = json.loads(json_str)\n",
    "        return data[feild]\n",
    "      else:\n",
    "        return json.loads(content)[feild]\n",
    "    except:\n",
    "      return \"No details found\""
   ]
  },
  {
   "cell_type": "code",
   "execution_count": 67,
   "metadata": {
    "id": "0ldMdpUZsNg1"
   },
   "outputs": [],
   "source": [
    "def process_ceo_information(company_name, profession='Legal'):\n",
    "    # Step 1: Search for the CEO\n",
    "    ceo_name_search = search_ceo(company_name)\n",
    "\n",
    "    # Step 2: Create a prompt to identify the CEO's full name\n",
    "    ceo_name_prompt = f\"\"\"{ceo_name_search} \"Identify the CEO of {company_name} from the above text and return only the CEO's full name in a JSON format. Key = 'CEO_Name'\"\"\"\n",
    "    ceo_name_response = ask_phi(ceo_name_prompt)\n",
    "    ceo_name = extract_json(ceo_name_response, 'CEO_Name')\n",
    "\n",
    "    # Step 3: Search for the CEO's background\n",
    "    ceo_background_info = search_ceo_background(ceo_name, company_name)\n",
    "\n",
    "    # Step 4: Create a prompt to classify the CEO's background\n",
    "    ceo_background_prompt = f\"\"\"{ceo_background_info} /// Classify the CEO background as one of the following: Technology, Medicine, Accounting, Finance, Strategy Consulting, Law, Engineering, Business Adminstration,  Other. Return only the background classification in a JSON format. Key = 'CEO_Background'\"\"\"\n",
    "    ceo_background_response = ask_phi(ceo_background_prompt)\n",
    "    ceo_background = extract_json(ceo_background_response, 'CEO_Background')\n",
    "\n",
    "    # Step 5: Search for the start year of the CEO's appointment\n",
    "    ceo_start_year_info = search_ceo_startdate(company_name, ceo_name)\n",
    "\n",
    "    # Step 6: Create a prompt to identify the CEO's start year\n",
    "    ceo_start_year_prompt = f\"\"\"{ceo_start_year_info} /// Identify just the year {ceo_name} was appointed as CEO of the company {company_name}. Return only the year as a number in a JSON format. Key = 'Appointed_Year'\"\"\"\n",
    "    ceo_start_year_response = ask_phi(ceo_start_year_prompt)\n",
    "    appointed_year = extract_json(ceo_start_year_response, 'Appointed_Year')\n",
    "\n",
    "    # Step 7: Search if CEO has {legal} backgdound\n",
    "    ceo_legal_background_info = search_ceo_legal_background(company_name, ceo_name, profession )\n",
    "\n",
    "    # Step 8: Create a prompt to identify the CEO's {Legal} Background\n",
    "    ceo_legal_background_prompt = f\"\"\"{ceo_legal_background_info} ///does {ceo_name}, current CEO of {company_name} have a {profession} background? ONLY RETURN Yes or No in a JSON format. Key = '{profession}_Background'\"\"\"\n",
    "    ceo_legal_background_response = ask_phi(ceo_legal_background_prompt)\n",
    "    profession_background = extract_json(ceo_legal_background_response, f'{profession}_Background')\n",
    "\n",
    "    # Step 9: Create a prompt to identify the CEO's {consluting} Background (an after thought does not fit in to the pattern# code can be improved)\n",
    "    ceo_consluting_background_prompt = f\"\"\"{ceo_background_info} ///has {ceo_name}, current CEO of {company_name} worked for consulting companies? ONLY RETURN Yes or No in a JSON format. Key = 'Consulting_Background'\"\"\"\n",
    "    ceo_consluting_background_response = ask_phi(ceo_consluting_background_prompt)\n",
    "    consulting_background = extract_json(ceo_consluting_background_response, 'Consulting_Background')\n",
    "\n",
    "    return {\n",
    "        'CEO Name': ceo_name,\n",
    "        'CEO Background': ceo_background,\n",
    "        'Appointed Year': appointed_year,\n",
    "        f'{profession} Background': profession_background,\n",
    "        'Consulting Background': consulting_background,\n",
    "        'Search Results': {\n",
    "            'CEO Name Search': ceo_name_search,\n",
    "            'CEO Background Info': ceo_background_info,\n",
    "            'CEO Start Year Info': ceo_start_year_info,\n",
    "            'CEO Legal Background Info': ceo_legal_background_info\n",
    "        },\n",
    "        'Ask Phi Responses': {\n",
    "            'CEO Name Response': ceo_name_response,\n",
    "            'CEO Background Response': ceo_background_response,\n",
    "            'CEO Start Year Response': ceo_start_year_response,\n",
    "            f'{profession} Background Response': ceo_legal_background_response,\n",
    "            'Consulting Background Response': ceo_consluting_background_response\n",
    "        }\n",
    "    }\n",
    "\n",
    "# Example usage\n",
    "# company_info = process_ceo_information('Walmart')\n",
    "# print(company_info)"
   ]
  },
  {
   "cell_type": "code",
   "execution_count": 60,
   "metadata": {
    "colab": {
     "base_uri": "https://localhost:8080/"
    },
    "id": "qSRD9IMOszpP",
    "outputId": "8c53b1c8-1966-4b30-bce3-2518a3bc89af"
   },
   "outputs": [
    {
     "name": "stdout",
     "output_type": "stream",
     "text": [
      "{'CEO Name': 'Natarajan Chandrasekaran', 'CEO Background': 'Technology', 'Appointed Year': 2009, 'Legal Background': 'No', 'Consulting Background': 'Yes', 'Search Results': {'CEO Name Search': '{\"searchParameters\":{\"q\":\"Who is the CEO of Tata?\",\"type\":\"search\",\"engine\":\"google\"},\"knowledgeGraph\":{\"title\":\"Natarajan Chandrasekaran\",\"type\":\"Chairperson of the Tata Group\",\"imageUrl\":\"https://encrypted-tbn0.gstatic.com/licensed-image?q=tbn:ANd9GcRmpbRDSH9s2OfUa6q4BpFHFfcl-gtBncTICs969Fe1g4oXFBEZefDRzrwf70dYsMwt6CCH&s=19\",\"description\":\"Natarajan Chandrasekaran is an Indian businessman, and the chairman of Tata Sons and Tata Group. He was chief operating officer and executive director of Tata Consultancy Services, where in 2009, he became chief executive officer. He was also the...\",\"descriptionSource\":\"Wikipedia\",\"descriptionLink\":\"https://en.wikipedia.org/wiki/Natarajan_Chandrasekaran\",\"attributes\":{\"Born\":\"1963 (age 61\\xa0years), Mohanur, India\",\"Awards\":\"Padma Bhushan and CNN-IBN Indian of the Year in Business\",\"Nominations\":\"CNN-IBN Indian of the Year in Business\",\"Children\":\"Pranav Chandrasekaran\",\"Education\":\"NIT Trichy (1986) and Coimbatore Institute of Technology\",\"Height\":\"5′ 8″\"}},\"organic\":[{\"title\":\"Natarajan Chandrasekaran - Wikipedia\",\"link\":\"https://en.wikipedia.org/wiki/Natarajan_Chandrasekaran\",\"snippet\":\"Natarajan Chandrasekaran (born 2 June 1963) is an Indian businessman, and the chairman of Tata Sons and Tata Group. He was chief operating officer (COO) and ...\",\"position\":1},{\"title\":\"Group Leadership - Tata Group\",\"link\":\"https://www.tata.com/management-team\",\"snippet\":\"Harish Manwani, Independent Director - Chairman · N Chandrasekaran, Executive Chairman · Ajay Piramal, Independent Director · Venu Srinivasan, Non-Executive ...\",\"position\":2},{\"title\":\"Leadership - Tata Consultancy Services\",\"link\":\"https://www.tcs.com/who-we-are/leadership\",\"snippet\":\"Chief Executive Officer & Managing Director. K. Krithivasan. K. Krithivasan, also known as Krithi, took over as the CEO & MD of Tata Consultancy Services on ...\",\"sitelinks\":[{\"title\":\"N. Chandrasekaran\",\"link\":\"https://www.tcs.com/who-we-are/leadership/n-chandrasekaran\"},{\"title\":\"Milind Lakkad\",\"link\":\"https://www.tcs.com/who-we-are/leadership/milind-lakkad\"},{\"title\":\"Aarthi Subramanian\",\"link\":\"https://www.tcs.com/who-we-are/leadership/aarthi-subramanian\"},{\"title\":\"Samir Seksaria\",\"link\":\"https://www.tcs.com/who-we-are/leadership/samir-seksaria\"}],\"position\":3},{\"title\":\"N Chandrasekaran, Executive Chairman, Tata Sons\",\"link\":\"https://www.tata.com/management-team/n-chandrasekaran\",\"snippet\":\"Natarajan Chandrasekaran (Chandra) is the Chairman of Tata Sons, the holding company and promoter of all Tata Group companies. Chandra joined the Board of Tata ...\",\"position\":4},{\"title\":\"K Krithivasan - Tata Consultancy Services\",\"link\":\"https://www.tcs.com/insights/authors/k-krithivasan\",\"snippet\":\"K. Krithivasan is the Chief Executive Officer and Managing Director of Tata Consultancy Services (TCS), a leading global IT solutions and consulting firm.\",\"position\":5},{\"title\":\"Tata Group - Wikipedia\",\"link\":\"https://en.wikipedia.org/wiki/Tata_Group\",\"snippet\":\"In 1991, Ratan Tata became chairman of Tata Group. This was also the year of economic liberalization in India, opening up the market to foreign competitors.\",\"sitelinks\":[{\"title\":\"Tata Consultancy Services\",\"link\":\"https://en.wikipedia.org/wiki/Tata_Consultancy_Services\"},{\"title\":\"List of entities associated with...\",\"link\":\"https://en.wikipedia.org/wiki/List_of_entities_associated_with_Tata_Group\"},{\"title\":\"Tata Power\",\"link\":\"https://en.wikipedia.org/wiki/Tata_Power\"},{\"title\":\"Tata Cliq\",\"link\":\"https://en.wikipedia.org/wiki/Tata_Cliq\"}],\"position\":6},{\"title\":\"K Krithivasan - Tata Consultancy Services | LinkedIn\",\"link\":\"https://in.linkedin.com/in/k-krithivasan-84659325\",\"snippet\":\"K Krithivasan. Tata Consultancy Services Indian Institute of Technology, Kanpur. Mumbai, Maharashtra, India.\",\"position\":7},{\"title\":\"Who is Natarajan Chandrasekaran? Chairman of the Tata Group\",\"link\":\"https://www.jagranjosh.com/general-knowledge/who-is-natarajan-chandrasekaran-chairman-of-the-tata-group-1728855959-1\",\"snippet\":\"Natarajan Chandrasekaran, affectionately known as \\\\\"Chandra,\\\\\" is the Chairman of Tata Sons. With a visionary approach, he drove Tata\\'s focus ...\",\"date\":\"Oct 14, 2024\",\"position\":8},{\"title\":\"Natarajan Chandrasekaran - The New York Academy of Sciences\",\"link\":\"https://www.nyas.org/person/natarajan-chandrasekaran/\",\"snippet\":\"Natarajan Chandrasekaran is Chairman of the Board of Tata Sons, the holding company and promoter of more than 100 Tata operating companies.\",\"position\":9},{\"title\":\"Board of Directors - Tata Steel\",\"link\":\"https://www.tatasteel.com/corporate/our-organisation/leadership/board-of-directors/\",\"snippet\":\"... CEO & Managing Director, Tata Steel Limited. Mr. T V Narendran is the CEO & Managing Director of Tata Steel Limited. As the CEO & MD, he has overseen the ...\",\"position\":10}],\"peopleAlsoAsk\":[{\"question\":\"Who is Tata CEO now?\",\"snippet\":\"Natarajan Chandrasekaran, known simply as \\\\\"Chandra,\\\\\" is one of India\\'s most prominent business persons and is currently the Chairman of Tata Sons, the holding group company of the Tata Group.\\\\nOct 14, 2024\",\"title\":\"Who is Natarajan Chandrasekaran? Chairman of the Tata Group\",\"link\":\"https://www.jagranjosh.com/general-knowledge/who-is-natarajan-chandrasekaran-chairman-of-the-tata-group-1728855959-1\"},{\"question\":\"Who is the current president of Tata?\",\"snippet\":\"Natarajan Chandrasekaran (born 2 June 1963) is an Indian businessman, and the chairman of Tata Sons and Tata Group.\",\"title\":\"Natarajan Chandrasekaran - Wikipedia\",\"link\":\"https://en.wikipedia.org/wiki/Natarajan_Chandrasekaran\"},{\"question\":\"Who is Tata owned by?\",\"snippet\":\"The biggest two trusts of TATA are Sir Dorabji Tata Trust and Sir Ratan Tata Trust. Tata trademark is owned by Tata Sons. The headquarters is in Mumbai and the chairperson is Natarajan Chandrasekaran who is the key person of Tata Group.\",\"title\":\"List of Companies Owned by Tata Group - GeeksforGeeks\",\"link\":\"https://www.geeksforgeeks.org/list-of-companies-owned-by-tata-group/\"},{\"question\":\"Who is the richest person in Tata?\",\"snippet\":\"According to the IIFL Wealth Hurun India Rich List of 2022, Ratan Tata ranked 421 with an estimated net worth of ₹3,800 crore. The chairmen of the Tata Group have bequeathed their assets to the Tata Trusts, which hold a two-thirds stake in Tata Sons.\",\"title\":\"Ratan Tata\\'s net worth: The titan who steered an industrial behemoth but ...\",\"link\":\"https://www.livemint.com/companies/people/ratan-tata-net-worth-the-titan-who-built-a-behemoth-empire-of-rs-3-800-crore-but-never-made-it-to-rich-lists-11728529381690.html\"}],\"relatedSearches\":[{\"query\":\"Tata Consultan...\"},{\"query\":\"Who is the ceo of tata group\"},{\"query\":\"Who is the ceo of tata sons\"},{\"query\":\"Tata Group Chairman list\"},{\"query\":\"Tata owner\"},{\"query\":\"Tata Sons\"},{\"query\":\"Tata founder\"},{\"query\":\"Tata family\"},{\"query\":\"TCS chairman\"}],\"credits\":1}', 'CEO Background Info': '{\"searchParameters\":{\"q\":\"Tata, CEO of Natarajan Chandrasekaran eduction and background\",\"type\":\"search\",\"engine\":\"google\"},\"answerBox\":{\"snippet\":\"After completing his primary and secondary education in public schools, he attended the Coimbatore Institute of Technology and received a bachelor\\'s degree in applied sciences. He completed a master\\'s degree in computer engineering in 1987 at the Regional Engineering College in Tiruchirappalli, Tamil Nadu state.\",\"title\":\"Natarajan Chandrasekaran | Biography, Family, & Education\",\"link\":\"https://www.britannica.com/money/Natarajan-Chandrasekaran\",\"date\":\"Oct 17, 2024\"},\"organic\":[{\"title\":\"Natarajan Chandrasekaran - Wikipedia\",\"link\":\"https://en.wikipedia.org/wiki/Natarajan_Chandrasekaran\",\"snippet\":\"He was chief operating officer (COO) and executive director of Tata Consultancy Services (TCS), where in 2009, he became chief executive officer (CEO). He was ...\",\"attributes\":{\"Missing\":\"eduction | Show results with:eduction\"},\"sitelinks\":[{\"title\":\"Institute of Electrical and\",\"link\":\"https://en.wikipedia.org/wiki/Institute_of_Electrical_and_Electronics_Engineers\"},{\"title\":\"Mohanur\",\"link\":\"https://en.wikipedia.org/wiki/Mohanur\"},{\"title\":\"Indian Institute of Management\",\"link\":\"https://en.wikipedia.org/wiki/Indian_Institute_of_Management_Lucknow\"},{\"title\":\"Non liquet\",\"link\":\"https://en.wikipedia.org/wiki/Non_liquet\"}],\"position\":1},{\"title\":\"Natarajan Chandrasekaran - The New York Academy of Sciences\",\"link\":\"https://www.nyas.org/person/natarajan-chandrasekaran/\",\"snippet\":\"Natarajan Chandrasekaran is Chairman of the Board of Tata Sons, the holding company and promoter of more than 100 Tata operating companies.\",\"attributes\":{\"Missing\":\"eduction | Show results with:eduction\"},\"position\":2},{\"title\":\"Who is N Chandrasekaran, Ratan Tata\\'s main man? He earns Rs ...\",\"link\":\"https://www.financialexpress.com/life/lifestyle-who-is-n-chandrasekaran-ratan-tatas-main-man-he-earns-rs-109-crore-know-about-his-life-career-net-worth-more-3006091/\",\"snippet\":\"After studying in a government school, he went to the Coimbatore Institute of Technology and has a bachelor\\'s degree in Applied Sciences. He ...\",\"date\":\"Oct 10, 2024\",\"attributes\":{\"Missing\":\"eduction | Show results with:eduction\"},\"position\":3},{\"title\":\"Who is Natarajan Chandrasekaran? Chairman of the Tata Group\",\"link\":\"https://www.jagranjosh.com/general-knowledge/who-is-natarajan-chandrasekaran-chairman-of-the-tata-group-1728855959-1\",\"snippet\":\"Chandrasekaran joined Tata Consultancy Services (TCS) in 1987 and served for nearly three decades until the designation of COO in 2007.\",\"date\":\"Oct 14, 2024\",\"attributes\":{\"Missing\":\"eduction | Show results with:eduction\"},\"position\":4},{\"title\":\"Natarajan Chandrasekaran: Positions, Relations and Network\",\"link\":\"https://www.marketscreener.com/insider/NATARAJAN-CHANDRASEKARAN-A0H0TV/\",\"snippet\":\"Mr. Natarajan Chandrasekaran is a Chairman at Tata Chemicals Ltd., a Chairman at Tata Consumer Products Ltd., a Chairman at Jaguar Land Rover Automotive Plc ...\",\"position\":5},{\"title\":\"N Chandrasekaran, happy 60th birthday! The chairman of Tata ...\",\"link\":\"https://m.economictimes.com/news/india/n-chandrasekaran-happy-60th-birthday-the-chairman-of-tata-includes-healthy-eating-and-simple-living-in-his-life-philosophy/his-educational-background/slideshow/100705513.cms\",\"snippet\":\"He attended a public school before enrolling at the Coimbatore Institute of Technology, where he earned a bachelor\\'s degree in Applied Sciences.\",\"date\":\"Jun 2, 2023\",\"attributes\":{\"Missing\":\"eduction | Show results with:eduction\"},\"position\":6},{\"title\":\"The Inspiring Story Of Tata Sons Chairman N Chandrasekaran\",\"link\":\"https://www.indiatimes.com/trending/social-relevance/n-chandrasekaran-tata-sons-chairman-inspiring-story-561196.html\",\"snippet\":\"Chandrasekaran studied in a government school in the state before pursuing his bachelor\\'s degree in Applied Sciences from the Coimbatore ...\",\"date\":\"Feb 4, 2022\",\"position\":7},{\"title\":\"N Chandrasekaran\\'s Story Of Remarkable Life & Career At TCS\",\"link\":\"https://www.youtube.com/watch?v=7TCN_VPVEaw\",\"snippet\":\"In this week\\'s CNBC-TV18 Timeless Classics catch the conversation with Natarajan ...\",\"date\":\"Nov 19, 2023\",\"attributes\":{\"Duration\":\"9:39\",\"Posted\":\"Nov 19, 2023\"},\"position\":8},{\"title\":\"Natarajan Chandrasekaran: Tracing The Career Evolution Of Tata ...\",\"link\":\"https://www.news18.com/business/natarajan-chandrasekaran-tracing-the-career-evolution-of-tata-sons-chairperson-8024887.html\",\"snippet\":\"Following his education at a government school, he pursued a bachelor\\'s degree in Applied Sciences from the Coimbatore Institute of Technology.\",\"date\":\"Jun 7, 2023\",\"attributes\":{\"Missing\":\"eduction | Show results with:eduction\"},\"position\":9}],\"peopleAlsoAsk\":[{\"question\":\"What is the background of Tata Group?\",\"snippet\":\"Established in 1868, it is India\\'s largest business conglomerate, with products and services in over 160 countries, and operations in 100 countries. There are total 29 publicly listed Tata Group companies with a combined market capitalisation of ₹33.7 trillion (US$403 billion) as of 20 August 2024.\",\"title\":\"Tata Group - Wikipedia\",\"link\":\"https://en.wikipedia.org/wiki/Tata_Group\"},{\"question\":\"What is the relationship between Natarajan Chandrasekaran and Ratan Tata?\",\"snippet\":\"N Chandrasekaran on Ratan Tata: \\\\\"He was someone to be discovered over time and through experience\\\\\" In his LinkedIn post, Chandrasekaran wrote, \\\\\"There really was no one like him. Our relationship grew over the years, first focusing on business and eventually evolving into a more personal connection.\",\"title\":\"N Chandrasekaran on Ratan Tata: \\\\\"He was someone to be discovered ...\",\"link\":\"https://upstox.com/news/business-news/latest-updates/tata-sons-chairman-n-chandrasekaran-on-ratan-tata-he-was-someone-to-be-discovered-over-time-and-through-experience/article-122064/\"},{\"question\":\"Who is Natarajan Chand CEO of Tata?\",\"snippet\":\"Natarajan Chandrasekaran is the Chairman of the Tata Group. Chandrasekaran joined Tata Consultancy Services (TCS) in 1987 and rapidly rose through the ranks, becoming CEO and Managing Director in 2009.\",\"title\":\"Natarajan Chandrasekaran - Indiaspora\",\"link\":\"https://www.indiaspora.org/business-leader/natarajan-chandrasekaran/\"},{\"question\":\"Who is the MD and CEO of Tata?\",\"snippet\":\"Natarajan Chandrasekaran (Chandra) is the Chairman of Tata Sons, the holding company and promoter of all Tata Group companies.\",\"title\":\"N Chandrasekaran, Executive Chairman, Tata Sons\",\"link\":\"https://www.tata.com/management-team/n-chandrasekaran\"}],\"relatedSearches\":[{\"query\":\"Natarajan Chandras...\"},{\"query\":\"Natarajan Chandrasekaran net worth\"},{\"query\":\"Tata Group Chairman list\"},{\"query\":\"Natarajan Chandrasekaran salary\"},{\"query\":\"Natarajan Chandrasekaran son\"},{\"query\":\"Tata Group CEO\"},{\"query\":\"Pranav Chandrasekaran\"},{\"query\":\"TCS chairman\"},{\"query\":\"Tata Sons\"}],\"credits\":1}', 'CEO Start Year Info': '{\"searchParameters\":{\"q\":\"when was Natarajan Chandrasekaran appointed as CEO of Tata \",\"type\":\"search\",\"engine\":\"google\"},\"answerBox\":{\"snippet\":\"He was chief operating officer (COO) and executive director of Tata Consultancy Services (TCS), where in 2009, he became chief executive officer (CEO).\",\"snippetHighlighted\":[\"2009\"],\"title\":\"Natarajan Chandrasekaran - Wikipedia\",\"link\":\"https://en.wikipedia.org/wiki/Natarajan_Chandrasekaran\"},\"organic\":[{\"title\":\"N. Chandrasekaran appointed Chairman of Tata Sons\",\"link\":\"https://www.tata.com/newsroom/n-chandrasekaran-appointed-chairman-tata-sons\",\"snippet\":\"Chandrasekaran was the Chief Executive Officer and Managing Director of Tata Consultancy Services since 2009. A Tata lifer, he had joined the company in 1987.\",\"position\":1},{\"title\":\"Natarajan Chandrasekaran - The New York Academy of Sciences\",\"link\":\"https://www.nyas.org/person/natarajan-chandrasekaran/\",\"snippet\":\"He joined the Board of Tata Sons in October 2016 and was appointed Chairman in January 2017.\",\"position\":2},{\"title\":\"Tata Power appoints N. Chandrasekaran as Chairman\",\"link\":\"https://www.tata.com/newsroom/tata-power-appoints-n-chandrasekaran-as-chairman\",\"snippet\":\"N. Chandrasekaran appointed Chairman of Tata Sons. Mr. Chandrasekaran shall take charge from February 21, 2017. Arrow.\",\"position\":3},{\"title\":\"Natarajan Chandrasekaran - The Council for Inclusive Capitalism\",\"link\":\"https://www.inclusivecapitalism.com/member/natarajan-chandrasekaran/\",\"snippet\":\"Chandra joined the Board of Tata Sons in October 2016 and was appointed Chairman in January 2017. He also chairs the Boards of several group operating companies ...\",\"position\":4},{\"title\":\"Natarajan Chandrasekaran\",\"link\":\"https://en.cdf.org.cn/cdf2019en/wfkb2/7998.htm\",\"snippet\":\"He joined the Board of Tata Sons in October 2016 and was appointed Chairman in January 2017. Chandra also chairs the Boards of several group operating companies ...\",\"position\":5},{\"title\":\"How N. Chandrasekaran became Tata Sons chairman - Mint\",\"link\":\"https://www.livemint.com/Companies/8gnZnq90e46fUkFQFvKeJL/Inside-story-How-TCS-chief-N-Chandrasekaran-became-Tata-Son.html\",\"snippet\":\"“The selection committee unanimously chose Mr. Chandrasekaran. The question of a contender does not arise. Neither Mr Soonawala nor Mr Krishna ...\",\"date\":\"Jan 13, 2017\",\"position\":6},{\"title\":\"Mr. Natarajan Chandrasekaran - Tata Power\",\"link\":\"https://www.tatapower.com/our-legacy/our-leadership/mr-natarajan-chandrasekaran\",\"snippet\":\"He joined the board of Tata Sons [in October 2016 and was appointed Chairman in January 2017.\",\"position\":7},{\"title\":\"NATARAJAN CHANDRASEKARAN – A LEGEND IN THE MAKING\",\"link\":\"https://www.linkedin.com/pulse/natarajan-chandrasekaran-legend-making-tamal-kumar-majumder-jelzc\",\"snippet\":\"... CEO of TCS (DOB - 02-06-1963). After completing 7 years as the CEO of TCS,he was appointed as a director on the board of Tata Sons on 25-10 ...\",\"date\":\"Mar 8, 2024\",\"position\":8},{\"title\":\"Natarajan Chandrasekaran named new chairman of Tata Sons, first ...\",\"link\":\"https://www.hindustantimes.com/business-news/tata-sons-appoints-natarajan-chandrasekaran-as-new-chairman-succeeds-ratan-tata/story-P8GPdnxqPuCqgwLWzGhFIJ.html\",\"snippet\":\"India\\'s $100 billion salt-to-software conglomerate Tata Sons named Natarajan Chandrasekaran as their new chairman on Thursday.\",\"date\":\"Jan 13, 2017\",\"position\":9}],\"peopleAlsoAsk\":[{\"question\":\"How did Natarajan Chandrasekaran become Chairman of Tata?\",\"snippet\":\"N Chandrasekaran, Ratan Tata\\'s successor But his key responsibility was to find a successor, who was widely expected to be a close family member. However, in January 2017, to the surprise of many, Ratan Tata picked Natarajan Chandrasekaran, who was the CEO and MD of TCS until then, to head Tata Sons.\",\"title\":\"How Ratan Tata hand-picked N Chandrasekaran who started as a ...\",\"link\":\"https://www.indiatimes.com/news/india/ratan-tata-hand-picked-n-chandrasekaran-who-started-as-a-tcs-intern-as-chairman-of-tata-sons-643571.html\"},{\"question\":\"Who is the best CEO of Tata Group?\",\"snippet\":\"Natarajan Chandrasekaran, known simply as \\\\\"Chandra,\\\\\" is one of India\\'s most prominent business persons and is currently the Chairman of Tata Sons, the holding group company of the Tata Group.\",\"title\":\"Who is Natarajan Chandrasekaran? Chairman of the Tata Group\",\"link\":\"https://www.jagranjosh.com/general-knowledge/who-is-natarajan-chandrasekaran-chairman-of-the-tata-group-1728855959-1\"},{\"question\":\"Who is the new CEO of Tata Group after Ratan Tata?\",\"snippet\":\"The meeting, held a day after his state funeral, had a significant agenda—to decide on his successor at Tata Trusts. What followed was a “smooth transition”, as insiders would put it, with Noel Tata, 67, a trustee on the board and Ratan Tata\\'s half-brother, unanimously elected as the chairman.\",\"title\":\"After Ratan Tata, in Noel the Tatas trust - India Today\",\"link\":\"https://www.indiatoday.in/india-today-insight/story/after-ratan-tata-in-noel-the-tatas-trust-2620114-2024-10-20\"},{\"question\":\"Who is the CEO of Tata in 2024?\",\"snippet\":\"Name\\\\nTenure\\\\nJ. R. D. Tata\\\\n1938–1991\\\\nRatan Tata\\\\n1991–2012, 2016–2017\\\\nCyrus Mistry\\\\n2012–2016\\\\nNatarajan Chandrasekaran\\\\n2017–present\",\"title\":\"List of Tata Group Chairman Till 2024\",\"link\":\"https://www.jagranjosh.com/general-knowledge/list-of-tata-group-chairman-till-2024-1728847475-1\"}],\"relatedSearches\":[{\"query\":\"Reliance Industries\"},{\"query\":\"Natarajan Chandrasekaran net worth\"},{\"query\":\"Tata Group Chairman list\"},{\"query\":\"Natarajan Chandrasekaran salary\"},{\"query\":\"Tata Group CEO\"},{\"query\":\"Natarajan Chandrasekaran son\"},{\"query\":\"Tata Sons owner\"},{\"query\":\"Pranav Chandrasekaran\"},{\"query\":\"TCS chairman\"}],\"credits\":1}', 'CEO Legal Background Info': '{\"searchParameters\":{\"q\":\"does Natarajan Chandrasekaran, CEO of Tata have a Legal background\",\"type\":\"search\",\"engine\":\"google\"},\"organic\":[{\"title\":\"Natarajan Chandrasekaran - Wikipedia\",\"link\":\"https://en.wikipedia.org/wiki/Natarajan_Chandrasekaran\",\"snippet\":\"Natarajan Chandrasekaran (born 2 June 1963) is an Indian businessman, and the chairman of Tata Sons and Tata Group. He was chief operating officer (COO) and ...\",\"position\":1},{\"title\":\"Natarajan Chandrasekaran | Biography, Family, & Education\",\"link\":\"https://www.britannica.com/money/Natarajan-Chandrasekaran\",\"snippet\":\"In 2017 Chandrasekaran became the chairman of Tata Sons; he was the first chairman with no relation to the Tata family through either blood or marriage.\",\"date\":\"Oct 17, 2024\",\"position\":2},{\"title\":\"NATARAJAN CHANDRASEKARAN | JLR Media Newsroom\",\"link\":\"https://media.jaguarlandrover.com/person/natarajan-chandrasekaran\",\"snippet\":\"Natarajan Chandrasekaran is Chairman of the board of Tata Sons, the holding company and promoter of more than 100 Tata operating companies.\",\"attributes\":{\"Missing\":\"Legal | Show results with:Legal\"},\"position\":3},{\"title\":\"Natarajan Chandrasekaran has plenty of legal stuff on his plate\",\"link\":\"https://timesofindia.indiatimes.com/business/india-business/natarajan-chandrasekaran-has-plenty-of-legal-stuff-on-his-plate/articleshow/56508652.cms\",\"snippet\":\"MUMBAI: The newly appointed chairman designate of Tata Sons, N Chandrasekaran has a bunch of legal matters on his plate to address on ...\",\"date\":\"Jan 13, 2017\",\"position\":4},{\"title\":\"N Chandrasekaran, happy 60th birthday! The chairman of Tata ...\",\"link\":\"https://m.economictimes.com/news/india/n-chandrasekaran-happy-60th-birthday-the-chairman-of-tata-includes-healthy-eating-and-simple-living-in-his-life-philosophy/his-married-life/slideshow/100705524.cms\",\"snippet\":\"Natarajan Chandrasekaran made the decision to work as an intern for TCS in 1987 after completing his engineering degree. He ascended the ladder ...\",\"date\":\"Jun 2, 2023\",\"position\":5},{\"title\":\"From Engineering Intern to Chairman of Tata - IEEE Spectrum\",\"link\":\"https://spectrum.ieee.org/from-engineering-intern-to-chairman-of-tata\",\"snippet\":\"His father—who had given up his own career as a lawyer to run the farm after his father died—encouraged Chandra to continue to pursue his ...\",\"date\":\"Sep 16, 2021\",\"attributes\":{\"Missing\":\"Legal background\"},\"position\":6},{\"title\":\"[PDF] Shri Natarajan Chandrasekaran\",\"link\":\"https://www.iitk.ac.in/doaa/convocation/data/Profile-Shri-Natarajan-Chandrasekaran.pdf\",\"snippet\":\"His appointment as Chairman in January 2017 followed a 30 year career at Tata Consultancy Services (TCS). He also chairs the boards of several group companies,.\",\"attributes\":{\"Missing\":\"Legal | Show results with:Legal\"},\"position\":7},{\"title\":\"Natarajan Chandrasekaran - The Council for Inclusive Capitalism\",\"link\":\"https://www.inclusivecapitalism.com/member/natarajan-chandrasekaran/\",\"snippet\":\"In addition to his professional career at Tata, Chandra is on the International Advisory Council of Singapore\\'s Economic Development Board. He is the Chairman ...\",\"attributes\":{\"Missing\":\"background | Show results with:background\"},\"position\":8},{\"title\":\"Natarajan Chandrasekaran: Who is new Tata Group chairman? - BBC\",\"link\":\"https://www.bbc.com/news/world-asia-india-38609021\",\"snippet\":\"He joined the company in 1987 after obtaining a Master\\'s degree in computer applications from the National Institute of Technology in Trichy in ...\",\"date\":\"Jan 13, 2017\",\"attributes\":{\"Missing\":\"background | Show results with:background\"},\"position\":9},{\"title\":\"Natarajan Chandrasekaran - GIC\",\"link\":\"https://www.gic.com.sg/event-speakers/natarajan-chandrasekaran/\",\"snippet\":\"In addition to his professional career at Tata, Chandra is a Director on the Board of India\\'s central bank, the Reserve Bank of India, since 2016.\",\"attributes\":{\"Missing\":\"Legal background\"},\"position\":10}],\"peopleAlsoAsk\":[{\"question\":\"What is the relationship between Natarajan Chandrasekaran and Ratan Tata?\",\"snippet\":\"N Chandrasekaran on Ratan Tata: \\\\\"He was someone to be discovered over time and through experience\\\\\" In his LinkedIn post, Chandrasekaran wrote, \\\\\"There really was no one like him. Our relationship grew over the years, first focusing on business and eventually evolving into a more personal connection.\",\"title\":\"N Chandrasekaran on Ratan Tata: \\\\\"He was someone to be discovered ...\",\"link\":\"https://upstox.com/news/business-news/latest-updates/tata-sons-chairman-n-chandrasekaran-on-ratan-tata-he-was-someone-to-be-discovered-over-time-and-through-experience/article-122064/\"},{\"question\":\"Who is the MD and CEO of Tata?\",\"snippet\":\"Natarajan Chandrasekaran (Chandra) is the Chairman of Tata Sons, the holding company and promoter of all Tata Group companies.\",\"title\":\"N Chandrasekaran, Executive Chairman, Tata Sons\",\"link\":\"https://www.tata.com/management-team/n-chandrasekaran\"},{\"question\":\"Who owns majority stake in Tata?\",\"snippet\":\"As a matter of fact, the majority of the shares are held by Sir Dorabji Trust and Sir Ratan Tata Trust, owning 27.98% and 23.56% of Tata Sons shares, respectively.\",\"title\":\"Who are the largest shareholders in Tata Sons? It\\'s not Ratan Tata, Noel ...\",\"link\":\"https://www.india.com/business/who-are-the-largest-shareholders-in-tata-sons-its-not-ratan-tata-noel-tata-jimmy-tata-the-largest-shareholder-is-tata-trusts-7317316/\"},{\"question\":\"Who is the owner of Tata and what religion?\",\"snippet\":\"Ratan Tata was born in Bombay (now Mumbai), during the British Raj, into a Parsi Zoroastrian family, on 28 December 1937. He was the son of Naval Tata (who was born in Surat and later adopted into the Tata family), and Soonoo Tata (the niece of Tata group founder Jamsetji Tata).\",\"title\":\"Ratan Tata - Wikipedia\",\"link\":\"https://en.wikipedia.org/wiki/Ratan_Tata\"}],\"relatedSearches\":[{\"query\":\"Natarajan Chandrasekaran net worth\"},{\"query\":\"Tata Group Chairman list\"},{\"query\":\"Natarajan Chandrasekaran salary\"},{\"query\":\"Tata Group CEO\"},{\"query\":\"Natarajan Chandrasekaran son\"},{\"query\":\"Tata Sons owner\"},{\"query\":\"Pranav Chandrasekaran\"},{\"query\":\"CEO of TCS\"}],\"credits\":1}'}, 'Ask Phi Responses': {'CEO Name Response': {'choices': [{'finish_reason': 'stop', 'index': 0, 'message': {'content': ' ```json\\n{\\n  \"CEO_Name\": \"Natarajan Chandrasekaran\"\\n}\\n```', 'role': 'assistant', 'tool_calls': []}}], 'created': 1732020459, 'id': 'chat-2669cd8f181842139c8ab9e121a074bf', 'model': 'phi35-mini-instruct', 'object': 'chat.completion', 'usage': {'completion_tokens': 28, 'prompt_tokens': 2355, 'total_tokens': 2383}}, 'CEO Background Response': {'choices': [{'finish_reason': 'length', 'index': 0, 'message': {'content': ' ```json\\n{\\n  \"CEO_Background\": \"Technology\"\\n}\\n```\\n\\nThe classification is based on the information provided about Natarajan Chandrasekaran\\'s education and career, which is in the technology sector. He completed his bachelor\\'s degree in Applied Sciences at the Coimbatore Institute of Technology and has a master\\'s degree in computer engineering. Additionally, he has held significant positions within Tata Consultancy Services', 'role': 'assistant', 'tool_calls': []}}], 'created': 1732020463, 'id': 'chat-db62cbccc7a8426cbf641e62ea8639a7', 'model': 'phi35-mini-instruct', 'object': 'chat.completion', 'usage': {'completion_tokens': 100, 'prompt_tokens': 2341, 'total_tokens': 2441}}, 'CEO Start Year Response': {'choices': [{'finish_reason': 'stop', 'index': 0, 'message': {'content': ' ```json\\n{\\n  \"Appointed_Year\": 2009\\n}\\n```', 'role': 'assistant', 'tool_calls': []}}], 'created': 1732020471, 'id': 'chat-5d4cba4229cf4e328dae21e91e6d9425', 'model': 'phi35-mini-instruct', 'object': 'chat.completion', 'usage': {'completion_tokens': 23, 'prompt_tokens': 2117, 'total_tokens': 2140}}, 'Legal Background Response': {'choices': [{'finish_reason': 'stop', 'index': 0, 'message': {'content': ' {\\n  \"Legal_Background\": \"No\"\\n}\\n', 'role': 'assistant', 'tool_calls': []}}], 'created': 1732020474, 'id': 'chat-01f977925ceb46938404cc1c2e555bec', 'model': 'phi35-mini-instruct', 'object': 'chat.completion', 'usage': {'completion_tokens': 16, 'prompt_tokens': 2061, 'total_tokens': 2077}}, 'Consulting Background Response': {'choices': [{'finish_reason': 'stop', 'index': 0, 'message': {'content': ' ```json\\n{\\n  \"Consulting_Background\": \"Yes\"\\n}\\n```', 'role': 'assistant', 'tool_calls': []}}], 'created': 1732020476, 'id': 'chat-688e4aa28554494aa738217ebe945e10', 'model': 'phi35-mini-instruct', 'object': 'chat.completion', 'usage': {'completion_tokens': 21, 'prompt_tokens': 2335, 'total_tokens': 2356}}}}\n"
     ]
    }
   ],
   "source": [
    "company_info = process_ceo_information('Tata')\n",
    "print(company_info)"
   ]
  },
  {
   "cell_type": "code",
   "execution_count": null,
   "metadata": {
    "id": "DHToMZ7On8Sr"
   },
   "outputs": [],
   "source": [
    "# Saving data to drive just to be safe\n",
    "csv_file_path = '/content/drive/MyDrive/Blog/Fortune 500 Lawyers/fortune_500_data.csv'  # Update with your desired file paths\n",
    "\n",
    "for index, row in df_f5_2024.iterrows():\n",
    "  company = row['RemoveName']\n",
    "  try:\n",
    "    ceo_information = process_ceo_information(company, 'Legal')\n",
    "    df_f5_2024.loc[index, 'CEO Name'] = ceo_information['CEO Name']\n",
    "    df_f5_2024.loc[index, 'CEO Background'] = ceo_information['CEO Background']\n",
    "    df_f5_2024.loc[index, 'Appointed Year'] = ceo_information['Appointed Year']\n",
    "    df_f5_2024.loc[index, 'Legal Background'] = ceo_information['Legal Background']\n",
    "    df_f5_2024.loc[index, 'Consulting Background'] = ceo_information['Consulting Background']\n",
    "    #time.sleep(60)\n",
    "\n",
    "    # Saving restuls to drive\n",
    "    txt_file_path = f'/content/drive/MyDrive/Blog/Fortune 500 Lawyers/{company}_ceo_information.txt'\n",
    "    with open(txt_file_path, 'w') as f:\n",
    "      f.write(str(company_info))\n",
    "    if index % 10 == 0:\n",
    "      df_f5_2024.to_csv(csv_file_path, index=False)\n",
    "\n",
    "  except Exception as e:\n",
    "    print(f\"Error processing information for {company}: {e}\")"
   ]
  },
  {
   "cell_type": "code",
   "execution_count": 65,
   "metadata": {
    "id": "I77O7WR2O1_X"
   },
   "outputs": [],
   "source": [
    "df_f5_2024.to_csv(csv_file_path, index=False)"
   ]
  },
  {
   "cell_type": "code",
   "execution_count": null,
   "metadata": {
    "id": "5ZVAP_KJkWuk"
   },
   "outputs": [],
   "source": []
  }
 ],
 "metadata": {
  "colab": {
   "provenance": []
  },
  "kernelspec": {
   "display_name": "Python 3",
   "name": "python3"
  },
  "language_info": {
   "name": "python"
  }
 },
 "nbformat": 4,
 "nbformat_minor": 0
}
