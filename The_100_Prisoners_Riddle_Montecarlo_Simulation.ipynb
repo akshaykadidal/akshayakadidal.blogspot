{
  "cells": [
    {
      "cell_type": "markdown",
      "metadata": {
        "id": "view-in-github",
        "colab_type": "text"
      },
      "source": [
        "<a href=\"https://colab.research.google.com/github/akshaykadidal/akshayakadidal.blogspot/blob/master/The_100_Prisoners_Riddle_Montecarlo_Simulation.ipynb\" target=\"_parent\"><img src=\"https://colab.research.google.com/assets/colab-badge.svg\" alt=\"Open In Colab\"/></a>"
      ]
    },
    {
      "cell_type": "markdown",
      "metadata": {
        "id": "khGpTYb6rgkT"
      },
      "source": [
        "The 100 prisoners problem is a challenge in probability theory. In this scenario, 100 prisoners are tasked with locating their assigned numbers hidden in 100 drawers to ensure their survival. Each prisoner is allowed to open only 50 drawers and cannot communicate with others. Initially, this seems like a daunting task, but a strategic approach provides them with a viable chance of success.\n",
        "\n",
        "This problem was introduced by Anna Gál and Peter Bro Miltersen in 2003. I was introduced to it through\n",
        "[Veritasium](https://www.youtube.com/watch?v=iSNsgj1OCLA)\n",
        "\n",
        "The solution to the problem looks impossible. I don't understand how it happens. Here, I am attempting to verify it's authenticity through a Montecarlo simulation for my own satisfaction."
      ]
    },
    {
      "cell_type": "code",
      "execution_count": 1,
      "metadata": {
        "id": "h188hPQAQrc1"
      },
      "outputs": [],
      "source": [
        "import pandas as pd\n",
        "import random\n",
        "import matplotlib.pyplot as plt"
      ]
    },
    {
      "cell_type": "markdown",
      "metadata": {
        "id": "wE9oqafsRBxc"
      },
      "source": [
        "**Section 1: Random Attempt No collaborated strategy**"
      ]
    },
    {
      "cell_type": "code",
      "execution_count": null,
      "metadata": {
        "id": "hnlcKVs2swNQ"
      },
      "outputs": [],
      "source": [
        "def Experiment_Iteration(Number_of_Prisoners, Attempts_Percent):\n",
        "    # Create a DataFrame with prisoner numbers and initialized scores\n",
        "    df = pd.DataFrame({\n",
        "        'Prisoners_Number': range(Number_of_Prisoners),\n",
        "        'Score': [0] * Number_of_Prisoners # set inital score to 0\n",
        "    })\n",
        "\n",
        "    # Create and shuffle Box_index\n",
        "    Box_index = list(range(Number_of_Prisoners))\n",
        "    #random.shuffle(Box_index)\n",
        "\n",
        "    # Calculate maximum number of attempts allowed\n",
        "    max_attempts = int(Number_of_Prisoners * Attempts_Percent)\n",
        "\n",
        "    # Run the simulation for each prisoner\n",
        "    for index, row in df.iterrows():\n",
        "        prisoner = row['Prisoners_Number']\n",
        "        random_boxes = random.sample(Box_index, max_attempts)\n",
        "        if prisoner in random_boxes:\n",
        "              df.at[index, 'Score'] = 1  # Update score to 1 on success\n",
        "    return df"
      ]
    },
    {
      "cell_type": "code",
      "execution_count": null,
      "metadata": {
        "id": "MQtbas4C_6S3"
      },
      "outputs": [],
      "source": [
        "Number_of_Prisoners = 100\n",
        "Attempts_Percent = 0.5  # 50% of Number_of_Prisoners\n",
        "\n",
        "result_df = Experiment_Iteration(Number_of_Prisoners= 100, Attempts_Percent= 0.5)"
      ]
    },
    {
      "cell_type": "code",
      "execution_count": null,
      "metadata": {
        "colab": {
          "base_uri": "https://localhost:8080/"
        },
        "id": "gDNsntMPAC1o",
        "outputId": "ccdef06e-f2dd-4d44-86d6-56b08b6be74d"
      },
      "outputs": [
        {
          "data": {
            "text/plain": [
              "60"
            ]
          },
          "execution_count": 46,
          "metadata": {},
          "output_type": "execute_result"
        }
      ],
      "source": [
        "# Print the result DataFrame\n",
        "result_df = Experiment_Iteration(Number_of_Prisoners= 100, Attempts_Percent= 0.5)\n",
        "result_df['Score'].sum()"
      ]
    },
    {
      "cell_type": "code",
      "execution_count": null,
      "metadata": {
        "id": "WSFY1bg5P-o1"
      },
      "outputs": [],
      "source": [
        "random_result=[]\n",
        "for i in range(1000):\n",
        "    result_df = Experiment_Iteration(Number_of_Prisoners= 100, Attempts_Percent= 0.5)\n",
        "    random_result.append((result_df['Score'].sum()))"
      ]
    },
    {
      "cell_type": "code",
      "execution_count": null,
      "metadata": {
        "colab": {
          "base_uri": "https://localhost:8080/"
        },
        "id": "IR15VucfQSFo",
        "outputId": "97704e49-c91c-43de-cae7-c746ab186d0e"
      },
      "outputs": [
        {
          "name": "stdout",
          "output_type": "stream",
          "text": [
            "Frequency of 100: 0\n"
          ]
        }
      ],
      "source": [
        "#plt.hist(random_result)\n",
        "#plt.xlabel('Number of Successes')\n",
        "#plt.ylabel('Frequency')\n",
        "#plt.title('Distribution of Successes in 100 Prisoner Problem')\n",
        "#plt.show()\n",
        "Number_of_Prisoners = 100\n",
        "frequency = random_result.count(Number_of_Prisoners)\n",
        "print(f\"Frequency of {Number_of_Prisoners}: {frequency}\")"
      ]
    },
    {
      "cell_type": "markdown",
      "metadata": {
        "id": "lGQ7GH4qRO4A"
      },
      "source": [
        "**Section 2: Strategy Suggested in the Video**\n",
        "The key here is to make sure that the prisoner picks up the the box labelled with his number\n",
        "---\n",
        "\n"
      ]
    },
    {
      "cell_type": "code",
      "execution_count": null,
      "metadata": {
        "id": "hGgJtj44dDS4"
      },
      "outputs": [],
      "source": [
        "def Experiment_Iteration_Strat1(Number_of_Prisoners, Attempts_Percent):\n",
        "    # Create a DataFrame with prisoner numbers and initialized scores\n",
        "    df = pd.DataFrame({\n",
        "        'Prisoners_Number': range(Number_of_Prisoners),\n",
        "        'Score': [0]  * Number_of_Prisoners # set inital score to 0\n",
        "    })\n",
        "\n",
        "    # Create and shuffle Box_index\n",
        "    Box_index = list(range(Number_of_Prisoners))\n",
        "    random.shuffle(Box_index)\n",
        "    #print(f\"\"\"Box numbers after shuffle/n{Box_index}\"\"\")\n",
        "    # Calculate maximum number of attempts allowed\n",
        "    max_attempts = int(Number_of_Prisoners * Attempts_Percent)\n",
        "\n",
        "    # Run the simulation for each prisoner\n",
        "    for index, row in df.iterrows():\n",
        "        prisoner = row['Prisoners_Number']\n",
        "        attempts = 0\n",
        "# Prisoner picks a random box to open\n",
        "        #picked_index = random.choice(range(Number_of_Prisoners))\n",
        "        picked_index = prisoner\n",
        "        #print(f\"\"\"initial index{picked_index}\"\"\")\n",
        "        while attempts < max_attempts:\n",
        "            # Check if the picked box contains the prisoner's number\n",
        "            if Box_index[picked_index] == prisoner:\n",
        "                df.at[index, 'Score'] = 1\n",
        "                break\n",
        "            picked_index = Box_index[picked_index]\n",
        "            #print(f\"\"\"Prisnor number{prisoner}\"\"\")\n",
        "            #print(f\"\"\"updated index{picked_index}\"\"\")\n",
        "            attempts += 1\n",
        "\n",
        "    return df"
      ]
    },
    {
      "cell_type": "code",
      "execution_count": null,
      "metadata": {
        "id": "Nks76XnUoHtF"
      },
      "outputs": [],
      "source": [
        "Number_of_Prisoners = 100\n",
        "Attempts_Percent = 0.5  # 50% of Number_of_Prisoners\n",
        "\n",
        "result_df = Experiment_Iteration_Strat1(Number_of_Prisoners= 100, Attempts_Percent= 0.5)"
      ]
    },
    {
      "cell_type": "code",
      "execution_count": null,
      "metadata": {
        "colab": {
          "base_uri": "https://localhost:8080/"
        },
        "id": "lWyJkYrUpPWx",
        "outputId": "f78feb9f-2421-40df-f617-3ecaf5376001"
      },
      "outputs": [
        {
          "data": {
            "text/plain": [
              "46"
            ]
          },
          "execution_count": 91,
          "metadata": {},
          "output_type": "execute_result"
        }
      ],
      "source": [
        "# Print the result DataFrame\n",
        "result_df = Experiment_Iteration_Strat1(Number_of_Prisoners= 100, Attempts_Percent= 0.5)\n",
        "result_df['Score'].sum()"
      ]
    },
    {
      "cell_type": "code",
      "execution_count": null,
      "metadata": {
        "colab": {
          "background_save": true
        },
        "id": "sfe_ptfUlNbD"
      },
      "outputs": [],
      "source": [
        "random_result_S=[]\n",
        "for i in range(100):\n",
        "    result_s_df = Experiment_Iteration_Strat1(Number_of_Prisoners= 100, Attempts_Percent= 0.5)\n",
        "    random_result_S.append((result_s_df['Score'].sum()))"
      ]
    },
    {
      "cell_type": "code",
      "execution_count": null,
      "metadata": {
        "id": "1Di17WfIoFgH"
      },
      "outputs": [],
      "source": [
        "plt.hist(random_result_S)\n",
        "plt.xlabel('Number of Successes')\n",
        "plt.ylabel('Frequency')\n",
        "plt.title('Distribution of Successes in 100 Prisoner Problem')\n",
        "plt.show()\n",
        "Number_of_Prisoners = 100\n",
        "frequency = random_result_S.count(Number_of_Prisoners)\n",
        "print(f\"Frequency of {Number_of_Prisoners}: {frequency}\")"
      ]
    }
  ],
  "metadata": {
    "colab": {
      "provenance": [],
      "authorship_tag": "ABX9TyOkKKSWfC+cGmHjNTLZgEs0",
      "include_colab_link": true
    },
    "kernelspec": {
      "display_name": "Python 3",
      "name": "python3"
    },
    "language_info": {
      "name": "python"
    }
  },
  "nbformat": 4,
  "nbformat_minor": 0
}