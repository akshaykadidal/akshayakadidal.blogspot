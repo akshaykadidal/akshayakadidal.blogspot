{
  "cells": [
    {
      "cell_type": "markdown",
      "metadata": {
        "id": "view-in-github",
        "colab_type": "text"
      },
      "source": [
        "<a href=\"https://colab.research.google.com/github/akshaykadidal/akshayakadidal.blogspot/blob/master/The_100_Prisoners_Riddle___Montecarlo_Simulation.ipynb\" target=\"_parent\"><img src=\"https://colab.research.google.com/assets/colab-badge.svg\" alt=\"Open In Colab\"/></a>"
      ]
    },
    {
      "cell_type": "markdown",
      "metadata": {
        "id": "khGpTYb6rgkT"
      },
      "source": [
        "The 100 prisoners problem is a challenge in probability theory. In this scenario, 100 prisoners are tasked with locating their assigned numbers hidden in 100 drawers to ensure their survival. Each prisoner is allowed to open only 50 drawers and cannot communicate with others. Initially, this seems like a daunting task, but a strategic approach provides them with a viable chance of success.\n",
        "\n",
        "This problem was introduced by Anna Gál and Peter Bro Miltersen in 2003. I was introduced to it through\n",
        "[Veritasium](https://www.youtube.com/watch?v=iSNsgj1OCLA)\n",
        "\n",
        "The solution to the problem looks impossible. I don't understand how it happens. Here, I am attempting to verify it's authenticity through a Montecarlo simulation for my own satisfaction."
      ]
    },
    {
      "cell_type": "code",
      "execution_count": 25,
      "metadata": {
        "id": "h188hPQAQrc1"
      },
      "outputs": [],
      "source": [
        "import pandas as pd\n",
        "import random\n",
        "import matplotlib.pyplot as plt"
      ]
    },
    {
      "cell_type": "markdown",
      "metadata": {
        "id": "wE9oqafsRBxc"
      },
      "source": [
        "**Section 1: Random Attempt No collaborated strategy**"
      ]
    },
    {
      "cell_type": "code",
      "execution_count": 26,
      "metadata": {
        "id": "hnlcKVs2swNQ"
      },
      "outputs": [],
      "source": [
        "def Experiment_Iteration(Number_of_Prisoners, Attempts_Percent):\n",
        "    # Create a DataFrame with prisoner numbers and initialized scores\n",
        "    df = pd.DataFrame({\n",
        "        'Prisoners_Number': range(Number_of_Prisoners),\n",
        "        'Score': [0] * Number_of_Prisoners # set inital score to 0\n",
        "    })\n",
        "\n",
        "    # Create and shuffle Box_index\n",
        "    Box_index = list(range(Number_of_Prisoners))\n",
        "    #random.shuffle(Box_index)\n",
        "\n",
        "    # Calculate maximum number of attempts allowed\n",
        "    max_attempts = int(Number_of_Prisoners * Attempts_Percent)\n",
        "\n",
        "    # Run the simulation for each prisoner\n",
        "    for index, row in df.iterrows():\n",
        "        prisoner = row['Prisoners_Number']\n",
        "        random_boxes = random.sample(Box_index, max_attempts)\n",
        "        if prisoner in random_boxes:\n",
        "              df.at[index, 'Score'] = 1  # Update score to 1 on success\n",
        "    return df"
      ]
    },
    {
      "cell_type": "code",
      "execution_count": 27,
      "metadata": {
        "id": "MQtbas4C_6S3"
      },
      "outputs": [],
      "source": [
        "Number_of_Prisoners = 100\n",
        "Attempts_Percent = 0.5  # 50% of Number_of_Prisoners\n",
        "\n",
        "result_df = Experiment_Iteration(Number_of_Prisoners= 100, Attempts_Percent= 0.5)"
      ]
    },
    {
      "cell_type": "code",
      "execution_count": 28,
      "metadata": {
        "colab": {
          "base_uri": "https://localhost:8080/"
        },
        "id": "gDNsntMPAC1o",
        "outputId": "88767794-df84-4e2b-8f46-c9acaa2d82b9"
      },
      "outputs": [
        {
          "output_type": "execute_result",
          "data": {
            "text/plain": [
              "51"
            ]
          },
          "metadata": {},
          "execution_count": 28
        }
      ],
      "source": [
        "# Print the result DataFrame\n",
        "result_df = Experiment_Iteration(Number_of_Prisoners= 100, Attempts_Percent= 0.5)\n",
        "result_df['Score'].sum()"
      ]
    },
    {
      "cell_type": "markdown",
      "source": [
        "Of the 100 prisoners only 49 got theri number."
      ],
      "metadata": {
        "id": "bZ6E4m59MQPx"
      }
    },
    {
      "cell_type": "code",
      "execution_count": 29,
      "metadata": {
        "id": "WSFY1bg5P-o1"
      },
      "outputs": [],
      "source": [
        "random_result=[]\n",
        "for i in range(1000):\n",
        "    result_df = Experiment_Iteration(Number_of_Prisoners= 100, Attempts_Percent= 0.5)\n",
        "    random_result.append((result_df['Score'].sum()))"
      ]
    },
    {
      "cell_type": "code",
      "execution_count": 30,
      "metadata": {
        "colab": {
          "base_uri": "https://localhost:8080/"
        },
        "id": "IR15VucfQSFo",
        "outputId": "87dc19d1-08a8-46c2-f58b-89b68757d90e"
      },
      "outputs": [
        {
          "output_type": "stream",
          "name": "stdout",
          "text": [
            "Frequency of 100: 0\n"
          ]
        }
      ],
      "source": [
        "#plt.hist(random_result)\n",
        "#plt.xlabel('Number of Successes')\n",
        "#plt.ylabel('Frequency')\n",
        "#plt.title('Distribution of Successes in 100 Prisoner Problem')\n",
        "#plt.show()\n",
        "Number_of_Prisoners = 100\n",
        "frequency = random_result.count(Number_of_Prisoners)\n",
        "print(f\"Frequency of {Number_of_Prisoners}: {frequency}\")"
      ]
    },
    {
      "cell_type": "markdown",
      "source": [
        "Of the 1000 times this game was played. There was never a time when all the prisoners got their numbers. we'll look at this histogram later."
      ],
      "metadata": {
        "id": "KbfacpzAMk6R"
      }
    },
    {
      "cell_type": "markdown",
      "metadata": {
        "id": "lGQ7GH4qRO4A"
      },
      "source": [
        "**Section 2: Strategy Suggested in the Video**\n",
        "The key here is to make sure that the prisoner picks up the the box labelled with his number\n",
        "---\n",
        "\n"
      ]
    },
    {
      "cell_type": "markdown",
      "source": [],
      "metadata": {
        "id": "T1keqctqMj_4"
      }
    },
    {
      "cell_type": "code",
      "execution_count": 31,
      "metadata": {
        "id": "hGgJtj44dDS4"
      },
      "outputs": [],
      "source": [
        "def Experiment_Iteration_Strat1(Number_of_Prisoners, Attempts_Percent):\n",
        "    # Create a DataFrame with prisoner numbers and initialized scores\n",
        "    df = pd.DataFrame({\n",
        "        'Prisoners_Number': range(Number_of_Prisoners),\n",
        "        'Score': [0]  * Number_of_Prisoners # set inital score to 0\n",
        "    })\n",
        "\n",
        "    # Create and shuffle Box_index\n",
        "    Box_index = list(range(Number_of_Prisoners))\n",
        "    random.shuffle(Box_index)\n",
        "    #print(f\"\"\"Box numbers after shuffle/n{Box_index}\"\"\")\n",
        "    # Calculate maximum number of attempts allowed\n",
        "    max_attempts = int(Number_of_Prisoners * Attempts_Percent)\n",
        "\n",
        "    # Run the simulation for each prisoner\n",
        "    for index, row in df.iterrows():\n",
        "        prisoner = row['Prisoners_Number']\n",
        "        attempts = 0\n",
        "# Prisoner picks a random box to open\n",
        "        #picked_index = random.choice(range(Number_of_Prisoners))\n",
        "        picked_index = prisoner\n",
        "        #print(f\"\"\"initial index{picked_index}\"\"\")\n",
        "        while attempts < max_attempts:\n",
        "            # Check if the picked box contains the prisoner's number\n",
        "            if Box_index[picked_index] == prisoner:\n",
        "                df.at[index, 'Score'] = 1\n",
        "                break\n",
        "            picked_index = Box_index[picked_index]\n",
        "            #print(f\"\"\"Prisnor number{prisoner}\"\"\")\n",
        "            #print(f\"\"\"updated index{picked_index}\"\"\")\n",
        "            attempts += 1\n",
        "\n",
        "    return df"
      ]
    },
    {
      "cell_type": "code",
      "execution_count": 32,
      "metadata": {
        "id": "Nks76XnUoHtF"
      },
      "outputs": [],
      "source": [
        "Number_of_Prisoners = 100\n",
        "Attempts_Percent = 0.5  # 50% of Number_of_Prisoners\n",
        "\n",
        "result_df = Experiment_Iteration_Strat1(Number_of_Prisoners= 100, Attempts_Percent= 0.5)"
      ]
    },
    {
      "cell_type": "code",
      "execution_count": 33,
      "metadata": {
        "colab": {
          "base_uri": "https://localhost:8080/"
        },
        "id": "lWyJkYrUpPWx",
        "outputId": "3275eb40-ce79-45d4-ebac-2ec6ff5433ff"
      },
      "outputs": [
        {
          "output_type": "execute_result",
          "data": {
            "text/plain": [
              "25"
            ]
          },
          "metadata": {},
          "execution_count": 33
        }
      ],
      "source": [
        "# Print the result DataFrame\n",
        "result_df = Experiment_Iteration_Strat1(Number_of_Prisoners= 100, Attempts_Percent= 0.5)\n",
        "result_df['Score'].sum()"
      ]
    },
    {
      "cell_type": "code",
      "execution_count": 34,
      "metadata": {
        "id": "sfe_ptfUlNbD"
      },
      "outputs": [],
      "source": [
        "Loop_Startegy_results=[]\n",
        "for i in range(100):\n",
        "    result_s_df = Experiment_Iteration_Strat1(Number_of_Prisoners= 100, Attempts_Percent= 0.5)\n",
        "    Loop_Startegy_results.append((result_s_df['Score'].sum()))"
      ]
    },
    {
      "cell_type": "code",
      "source": [
        "import matplotlib.pyplot as plt\n",
        "\n",
        "# Assuming Loop_Startegy_results and random_result are defined earlier and contain data\n",
        "\n",
        "# Create a figure and a set of subplots\n",
        "fig, axs = plt.subplots(1, 2, figsize=(14, 6))  # 1 row, 2 columns, and figure size adjusted\n",
        "\n",
        "# Plotting the first histogram on the first subplot for Random Strategy\n",
        "axs[0].hist(random_result)\n",
        "axs[0].set_xlabel('Number of Prisoners who picked their labels')\n",
        "axs[0].set_ylabel('Frequency')\n",
        "axs[0].set_title('Distribution of Successes in 100 Prisoner Problem (Random Strategy)')\n",
        "\n",
        "# Calculate and print the frequency of 100 prisoners succeeding for Random Strategy\n",
        "Number_of_Prisoners = 100\n",
        "frequency = random_result.count(Number_of_Prisoners)\n",
        "axs[0].text(0.95, 0.95, f\"Full success: {frequency} times\",\n",
        "            verticalalignment='top', horizontalalignment='right',\n",
        "            transform=axs[0].transAxes, color='green', fontsize=10)\n",
        "\n",
        "# Plotting the second histogram on the second subplot for Loop Strategy\n",
        "axs[1].hist(Loop_Startegy_results)\n",
        "axs[1].set_xlabel('Number of Prisoners who picked their labels')\n",
        "axs[1].set_ylabel('Frequency')\n",
        "axs[1].set_title('Distribution of Successes in 100 Prisoner Problem (Loop Strategy)')\n",
        "\n",
        "# Calculate and print the frequency of 100 prisoners succeeding for Loop Strategy\n",
        "frequency = Loop_Startegy_results.count(Number_of_Prisoners)\n",
        "axs[1].text(0.95, 0.95, f\"Full success: {frequency} times\",\n",
        "            verticalalignment='top', horizontalalignment='right',\n",
        "            transform=axs[1].transAxes, color='green', fontsize=10)\n",
        "\n",
        "# Display the plots side by side\n",
        "plt.tight_layout()\n",
        "plt.show()"
      ],
      "metadata": {
        "colab": {
          "base_uri": "https://localhost:8080/",
          "height": 569
        },
        "id": "5QdzxIDbQ3Gf",
        "outputId": "141dfd8b-022e-42cf-ebf7-321b21511b93"
      },
      "execution_count": 38,
      "outputs": [
        {
          "output_type": "display_data",
          "data": {
            "text/plain": [
              "<Figure size 1400x600 with 2 Axes>"
            ],
            "image/png": "[encoded data removed]"
          },
          "metadata": {}
        }
      ]
    },
    {
      "cell_type": "code",
      "source": [],
      "metadata": {
        "id": "tqdpUmJ4R4BP"
      },
      "execution_count": null,
      "outputs": []
    }
  ],
  "metadata": {
    "colab": {
      "provenance": [],
      "authorship_tag": "ABX9TyNChJ24IOwUBngI+CM3p89i",
      "include_colab_link": true
    },
    "kernelspec": {
      "display_name": "Python 3",
      "name": "python3"
    },
    "language_info": {
      "name": "python"
    }
  },
  "nbformat": 4,
  "nbformat_minor": 0
}